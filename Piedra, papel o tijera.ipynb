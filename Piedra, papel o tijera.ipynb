{
 "cells": [
  {
   "cell_type": "code",
   "execution_count": null,
   "id": "614ae1a1",
   "metadata": {},
   "outputs": [],
   "source": [
    "def jugador():\n",
    "    respuesta = input('\\n ¿Qué jugada eliges (1: Piedra, 2: Papel, 3: Tijera)?: ')\n",
    "    return int(respuesta)\n",
    "\n",
    "import random\n",
    "\n",
    "def ordenador():\n",
    "    opciones = ['piedra','papel','tijera']\n",
    "    opcion = random.choice(opciones)\n",
    "    return(opcion)\n",
    "\n",
    "def compara(jugador,ordenador):\n",
    "    ganador = None\n",
    "    if (jugador == 1 and ordenador == 'tijera'): ganador = 'jugador'\n",
    "    elif (jugador == 1 and ordenador == 'papel'): ganador = 'ordenador'\n",
    "    elif (jugador == 1 and ordenador == 'piedra'): ganador = 'empate'\n",
    "    elif (jugador == 2 and ordenador == 'tijera'): ganador = 'ordenador'\n",
    "    elif (jugador == 2 and ordenador == 'papel'): ganador = 'empate'\n",
    "    elif (jugador == 2 and ordenador == 'piedra'): ganador = 'jugador'\n",
    "    elif (jugador == 3 and ordenador == 'tijera'): ganador = 'empate'\n",
    "    elif (jugador == 3 and ordenador == 'papel'): ganador = 'jugador'\n",
    "    elif (jugador == 3 and ordenador == 'piedra'): ganador = 'ordenador'\n",
    "    else: print('Ha habido algún error')\n",
    "    return(ganador)\n",
    "\n",
    "nombre = input('Cómo te llamas?: ')\n",
    "print('Hola %s vamos a echar 10 jugadas. Y el que consiga más puntos gana!' %nombre)\n",
    "\n",
    "puntos_j = 0\n",
    "puntos_o = 0\n",
    "\n",
    "for cada in range(10):\n",
    "    tirada_jugador = jugador()\n",
    "    tirada_ordenador = ordenador()\n",
    "    ganador = compara(tirada_jugador,tirada_ordenador)\n",
    "    if ganador == 'jugador':\n",
    "        print('\\n Yo he sacado %s'%tirada_ordenador)\n",
    "        print('\\n Así que esta la has ganado tú!!')\n",
    "        puntos_j += 1\n",
    "    elif ganador == 'ordenador':\n",
    "        print('\\n Yo he sacado %s'%tirada_ordenador)\n",
    "        print('\\n Así que esta la he ganado yo!!')\n",
    "        puntos_o += 1\n",
    "    elif ganador == 'empate':\n",
    "        print('\\n Vaya, yo también he sacado %s'%tirada_ordenador)\n",
    "        print('\\n Así que hemos empatado, venga otra mano')\n",
    "    else: print('Ha habido algún problema')\n",
    "\n",
    "if puntos_j > puntos_o:\n",
    "    puntos_finales = puntos_j\n",
    "    print('\\n HEMOS TERMINADO!!')\n",
    "    print('\\n El resultado final es que has ganado tú con {} puntos'.format(puntos_finales))\n",
    "elif puntos_j > puntos_o:\n",
    "    puntos_finales = puntos_o\n",
    "    print('\\n El resultado final es que he ganado yo con {} puntos'.format(puntos_finales))\n",
    "else:\n",
    "    print('\\n Pues parece que hemos empatado, así que todos ganamos!')"
   ]
  }
 ],
 "metadata": {
  "kernelspec": {
   "display_name": "Python 3 (ipykernel)",
   "language": "python",
   "name": "python3"
  },
  "language_info": {
   "codemirror_mode": {
    "name": "ipython",
    "version": 3
   },
   "file_extension": ".py",
   "mimetype": "text/x-python",
   "name": "python",
   "nbconvert_exporter": "python",
   "pygments_lexer": "ipython3",
   "version": "3.9.12"
  },
  "toc": {
   "base_numbering": 1,
   "nav_menu": {},
   "number_sections": true,
   "sideBar": true,
   "skip_h1_title": false,
   "title_cell": "Table of Contents",
   "title_sidebar": "Contents",
   "toc_cell": false,
   "toc_position": {},
   "toc_section_display": true,
   "toc_window_display": false
  },
  "varInspector": {
   "cols": {
    "lenName": 16,
    "lenType": 16,
    "lenVar": 40
   },
   "kernels_config": {
    "python": {
     "delete_cmd_postfix": "",
     "delete_cmd_prefix": "del ",
     "library": "var_list.py",
     "varRefreshCmd": "print(var_dic_list())"
    },
    "r": {
     "delete_cmd_postfix": ") ",
     "delete_cmd_prefix": "rm(",
     "library": "var_list.r",
     "varRefreshCmd": "cat(var_dic_list()) "
    }
   },
   "types_to_exclude": [
    "module",
    "function",
    "builtin_function_or_method",
    "instance",
    "_Feature"
   ],
   "window_display": false
  }
 },
 "nbformat": 4,
 "nbformat_minor": 5
}
